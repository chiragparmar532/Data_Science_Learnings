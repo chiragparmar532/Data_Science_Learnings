{
 "cells": [
  {
   "cell_type": "code",
   "execution_count": 1,
   "id": "7b8f2d27",
   "metadata": {},
   "outputs": [
    {
     "name": "stdout",
     "output_type": "stream",
     "text": [
      "<class 'str'>\n"
     ]
    }
   ],
   "source": [
    "aTuple = (\"Orange\")\n",
    "print(type(aTuple))"
   ]
  },
  {
   "cell_type": "code",
   "execution_count": 2,
   "id": "070b3023",
   "metadata": {},
   "outputs": [
    {
     "name": "stdout",
     "output_type": "stream",
     "text": [
      "[3, 7, 8, 6, 1, 2]\n"
     ]
    }
   ],
   "source": [
    "lst = [3,4,6,1,2]\n",
    "lst[1:2] = [7,8]\n",
    "print(lst)"
   ]
  },
  {
   "cell_type": "code",
   "execution_count": 6,
   "id": "a1f0bdfe",
   "metadata": {},
   "outputs": [],
   "source": [
    "list1 = []*3"
   ]
  },
  {
   "cell_type": "code",
   "execution_count": 7,
   "id": "a888945e",
   "metadata": {},
   "outputs": [
    {
     "data": {
      "text/plain": [
       "[]"
      ]
     },
     "execution_count": 7,
     "metadata": {},
     "output_type": "execute_result"
    }
   ],
   "source": [
    "list1"
   ]
  },
  {
   "cell_type": "code",
   "execution_count": 8,
   "id": "9d869e6d",
   "metadata": {},
   "outputs": [],
   "source": [
    "d = {\"john\":40, \"peter\":45}"
   ]
  },
  {
   "cell_type": "code",
   "execution_count": 16,
   "id": "725bfe1d",
   "metadata": {},
   "outputs": [],
   "source": [
    "L1 = [10, 20, 30, 25, 32, 45, 50]\n",
    "L2 = [80, 70, 78, 55, 62]"
   ]
  },
  {
   "cell_type": "code",
   "execution_count": 17,
   "id": "39d371d7",
   "metadata": {},
   "outputs": [
    {
     "name": "stdout",
     "output_type": "stream",
     "text": [
      "-133\n"
     ]
    }
   ],
   "source": [
    "print(sum(L1) - sum(L2))"
   ]
  },
  {
   "cell_type": "code",
   "execution_count": 18,
   "id": "b25d7056",
   "metadata": {},
   "outputs": [],
   "source": [
    "def Say(message, times=1):\n",
    "    print(message * times)"
   ]
  },
  {
   "cell_type": "code",
   "execution_count": 23,
   "id": "aeb01798",
   "metadata": {},
   "outputs": [
    {
     "name": "stdout",
     "output_type": "stream",
     "text": [
      "Hello\n",
      "WorldWorldWorldWorld\n"
     ]
    }
   ],
   "source": [
    "Say(\"Hello\")\n",
    "Say(\"World\", 4)"
   ]
  }
 ],
 "metadata": {
  "kernelspec": {
   "display_name": "Python 3 (ipykernel)",
   "language": "python",
   "name": "python3"
  },
  "language_info": {
   "codemirror_mode": {
    "name": "ipython",
    "version": 3
   },
   "file_extension": ".py",
   "mimetype": "text/x-python",
   "name": "python",
   "nbconvert_exporter": "python",
   "pygments_lexer": "ipython3",
   "version": "3.9.7"
  }
 },
 "nbformat": 4,
 "nbformat_minor": 5
}
